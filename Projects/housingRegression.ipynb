{
 "cells": [
  {
   "cell_type": "code",
   "execution_count": 147,
   "metadata": {
    "ExecuteTime": {
     "end_time": "2024-03-04T19:47:20.104929Z",
     "start_time": "2024-03-04T19:47:20.096996Z"
    }
   },
   "outputs": [],
   "source": [
    "\n",
    "from sklearn.datasets import fetch_california_housing\n",
    "from sklearn.model_selection import train_test_split\n",
    "from sklearn.preprocessing import StandardScaler\n",
    "import tensorflow as tf\n",
    "from tensorflow import keras\n",
    "from keras import Sequential\n",
    "from keras.layers import Dense\n"
   ]
  },
  {
   "cell_type": "code",
   "execution_count": 173,
   "metadata": {
    "ExecuteTime": {
     "end_time": "2024-03-04T19:46:31.464124Z",
     "start_time": "2024-03-04T19:46:31.460575Z"
    }
   },
   "outputs": [],
   "source": [
    "housing = fetch_california_housing()\n",
    "\n",
    "X_train_full, X_test, y_train_full, y_test = train_test_split(housing.data, housing.target, random_state=42)\n",
    "X_train, X_valid, y_train, y_valid = train_test_split(X_train_full, y_train_full, random_state=42)\n",
    "\n",
    "scaler  = StandardScaler()\n",
    "X_train = scaler.fit_transform(X_train)\n",
    "X_valid = scaler.transform(X_valid)\n",
    "X_test = scaler.transform(X_test)"
   ]
  },
  {
   "cell_type": "code",
   "execution_count": 149,
   "metadata": {
    "ExecuteTime": {
     "start_time": "2024-03-04T19:45:45.189727Z"
    }
   },
   "outputs": [],
   "source": [
    "# model = keras.models.Sequential([\n",
    "#     keras.layers.Dense(30, activation='relu', input_shape=X_train.shape[1:]),\n",
    "#     keras.layers.Dense(1)\n",
    "# ])\n"
   ]
  },
  {
   "cell_type": "code",
   "execution_count": 174,
   "metadata": {},
   "outputs": [],
   "source": [
    "model = keras.models.Sequential([\n",
    "    keras.layers.Dense(30, activation=\"relu\", input_shape=X_train.shape[1:]),\n",
    "    keras.layers.Dense(1)\n",
    "])"
   ]
  },
  {
   "cell_type": "code",
   "execution_count": 151,
   "metadata": {
    "ExecuteTime": {
     "end_time": "2024-03-04T19:45:45.294300Z",
     "start_time": "2024-03-04T19:45:45.244641Z"
    }
   },
   "outputs": [
    {
     "name": "stdout",
     "output_type": "stream",
     "text": [
      "Model: \"sequential_12\"\n",
      "_________________________________________________________________\n",
      " Layer (type)                Output Shape              Param #   \n",
      "=================================================================\n",
      " dense_51 (Dense)            (None, 30)                270       \n",
      "                                                                 \n",
      " dense_52 (Dense)            (None, 1)                 31        \n",
      "                                                                 \n",
      "=================================================================\n",
      "Total params: 301 (1.18 KB)\n",
      "Trainable params: 301 (1.18 KB)\n",
      "Non-trainable params: 0 (0.00 Byte)\n",
      "_________________________________________________________________\n"
     ]
    }
   ],
   "source": [
    "model.summary()"
   ]
  },
  {
   "cell_type": "code",
   "execution_count": 175,
   "metadata": {
    "ExecuteTime": {
     "start_time": "2024-03-04T19:45:45.258749Z"
    }
   },
   "outputs": [],
   "source": [
    "model.compile(loss='mean_squared_error', optimizer='sgd', metrics=['accuracy'])"
   ]
  },
  {
   "cell_type": "code",
   "execution_count": 176,
   "metadata": {
    "ExecuteTime": {
     "end_time": "2024-03-04T19:45:45.311322Z",
     "start_time": "2024-03-04T19:45:45.295090Z"
    }
   },
   "outputs": [
    {
     "name": "stdout",
     "output_type": "stream",
     "text": [
      "Epoch 1/20\n",
      "363/363 [==============================] - 1s 1ms/step - loss: 0.7633 - accuracy: 0.0029 - val_loss: 1.2215 - val_accuracy: 0.0044\n",
      "Epoch 2/20\n",
      "363/363 [==============================] - 0s 605us/step - loss: 0.4748 - accuracy: 0.0029 - val_loss: 4.4651 - val_accuracy: 0.0044\n",
      "Epoch 3/20\n",
      "363/363 [==============================] - 0s 825us/step - loss: 0.5038 - accuracy: 0.0027 - val_loss: 5.9204 - val_accuracy: 0.0044\n",
      "Epoch 4/20\n",
      "363/363 [==============================] - 0s 594us/step - loss: 0.4446 - accuracy: 0.0029 - val_loss: 1.7339 - val_accuracy: 0.0044\n",
      "Epoch 5/20\n",
      "363/363 [==============================] - 0s 525us/step - loss: 0.4153 - accuracy: 0.0028 - val_loss: 0.3840 - val_accuracy: 0.0044\n",
      "Epoch 6/20\n",
      "363/363 [==============================] - 0s 699us/step - loss: 0.3963 - accuracy: 0.0028 - val_loss: 0.3784 - val_accuracy: 0.0044\n",
      "Epoch 7/20\n",
      "363/363 [==============================] - 0s 577us/step - loss: 0.3970 - accuracy: 0.0029 - val_loss: 0.3682 - val_accuracy: 0.0044\n",
      "Epoch 8/20\n",
      "363/363 [==============================] - 0s 577us/step - loss: 0.3876 - accuracy: 0.0028 - val_loss: 0.3634 - val_accuracy: 0.0044\n",
      "Epoch 9/20\n",
      "363/363 [==============================] - 0s 762us/step - loss: 0.3815 - accuracy: 0.0029 - val_loss: 0.3700 - val_accuracy: 0.0044\n",
      "Epoch 10/20\n",
      "363/363 [==============================] - 0s 555us/step - loss: 0.3794 - accuracy: 0.0029 - val_loss: 0.3777 - val_accuracy: 0.0044\n",
      "Epoch 11/20\n",
      "363/363 [==============================] - 0s 529us/step - loss: 0.3815 - accuracy: 0.0029 - val_loss: 0.6308 - val_accuracy: 0.0044\n",
      "Epoch 12/20\n",
      "363/363 [==============================] - 0s 525us/step - loss: 0.3848 - accuracy: 0.0029 - val_loss: 0.5762 - val_accuracy: 0.0044\n",
      "Epoch 13/20\n",
      "363/363 [==============================] - 0s 678us/step - loss: 0.3766 - accuracy: 0.0029 - val_loss: 0.3981 - val_accuracy: 0.0044\n",
      "Epoch 14/20\n",
      "363/363 [==============================] - 0s 514us/step - loss: 0.3694 - accuracy: 0.0029 - val_loss: 0.3376 - val_accuracy: 0.0044\n",
      "Epoch 15/20\n",
      "363/363 [==============================] - 0s 520us/step - loss: 0.3738 - accuracy: 0.0029 - val_loss: 0.4039 - val_accuracy: 0.0044\n",
      "Epoch 16/20\n",
      "363/363 [==============================] - 0s 575us/step - loss: 0.3650 - accuracy: 0.0029 - val_loss: 0.3352 - val_accuracy: 0.0044\n",
      "Epoch 17/20\n",
      "363/363 [==============================] - 0s 671us/step - loss: 0.3617 - accuracy: 0.0029 - val_loss: 0.3568 - val_accuracy: 0.0044\n",
      "Epoch 18/20\n",
      "363/363 [==============================] - 0s 499us/step - loss: 0.3611 - accuracy: 0.0029 - val_loss: 0.3580 - val_accuracy: 0.0044\n",
      "Epoch 19/20\n",
      "363/363 [==============================] - 0s 527us/step - loss: 0.3795 - accuracy: 0.0029 - val_loss: 0.3348 - val_accuracy: 0.0044\n",
      "Epoch 20/20\n",
      "363/363 [==============================] - 0s 493us/step - loss: 0.3575 - accuracy: 0.0029 - val_loss: 0.3861 - val_accuracy: 0.0044\n"
     ]
    }
   ],
   "source": [
    "history = model.fit( X_train, y_train, epochs=20, validation_data=(X_valid, y_valid))"
   ]
  },
  {
   "cell_type": "code",
   "execution_count": 154,
   "metadata": {
    "ExecuteTime": {
     "start_time": "2024-03-04T19:45:45.298130Z"
    }
   },
   "outputs": [
    {
     "data": {
      "image/png": "[encoded data removed]",
      "text/plain": [
       "<Figure size 800x500 with 1 Axes>"
      ]
     },
     "metadata": {},
     "output_type": "display_data"
    }
   ],
   "source": [
    "import pandas as pd\n",
    "import matplotlib.pyplot as plt\n",
    "\n",
    "pd.DataFrame(history.history).plot(figsize=(8, 5))\n",
    "plt.grid(True)\n",
    "plt.gca().set_ylim(0, 1)\n",
    "plt.show()"
   ]
  },
  {
   "cell_type": "code",
   "execution_count": 155,
   "metadata": {
    "ExecuteTime": {
     "end_time": "2024-03-04T19:45:45.346329Z",
     "start_time": "2024-03-04T19:45:45.321094Z"
    }
   },
   "outputs": [
    {
     "name": "stdout",
     "output_type": "stream",
     "text": [
      "162/162 [==============================] - 0s 824us/step - loss: 0.3527 - accuracy: 0.0021\n"
     ]
    }
   ],
   "source": [
    "mse_test = model.evaluate(X_test, y_test)"
   ]
  },
  {
   "cell_type": "markdown",
   "metadata": {},
   "source": [
    "### Building Wide & Deep Neural Network"
   ]
  },
  {
   "cell_type": "code",
   "execution_count": 156,
   "metadata": {
    "ExecuteTime": {
     "start_time": "2024-03-04T19:45:45.327570Z"
    }
   },
   "outputs": [],
   "source": [
    "input_ = keras.layers.Input(shape=X_train.shape[1:])\n",
    "hidden_1 = keras.layers.Dense(30, activation = 'relu')(input_)\n",
    "hidden_2 = keras.layers.Dense(30, activation = 'relu')(hidden_1)\n",
    "concat = keras.layers.Concatenate()([input_, hidden_2])\n",
    "output  = keras.layers.Dense(1)(concat)\n",
    "model = keras.Model(inputs=[input_], outputs=[output])\n",
    "\n"
   ]
  },
  {
   "cell_type": "code",
   "execution_count": 157,
   "metadata": {
    "ExecuteTime": {
     "end_time": "2024-03-04T19:45:45.384437Z",
     "start_time": "2024-03-04T19:45:45.351208Z"
    }
   },
   "outputs": [
    {
     "name": "stdout",
     "output_type": "stream",
     "text": [
      "Model: \"model_9\"\n",
      "__________________________________________________________________________________________________\n",
      " Layer (type)                Output Shape                 Param #   Connected to                  \n",
      "==================================================================================================\n",
      " input_8 (InputLayer)        [(None, 8)]                  0         []                            \n",
      "                                                                                                  \n",
      " dense_53 (Dense)            (None, 30)                   270       ['input_8[0][0]']             \n",
      "                                                                                                  \n",
      " dense_54 (Dense)            (None, 30)                   930       ['dense_53[0][0]']            \n",
      "                                                                                                  \n",
      " concatenate_10 (Concatenat  (None, 38)                   0         ['input_8[0][0]',             \n",
      " e)                                                                  'dense_54[0][0]']            \n",
      "                                                                                                  \n",
      " dense_55 (Dense)            (None, 1)                    39        ['concatenate_10[0][0]']      \n",
      "                                                                                                  \n",
      "==================================================================================================\n",
      "Total params: 1239 (4.84 KB)\n",
      "Trainable params: 1239 (4.84 KB)\n",
      "Non-trainable params: 0 (0.00 Byte)\n",
      "__________________________________________________________________________________________________\n"
     ]
    }
   ],
   "source": [
    "model.summary()"
   ]
  },
  {
   "cell_type": "code",
   "execution_count": 158,
   "metadata": {},
   "outputs": [],
   "source": [
    "model.compile(loss='mean_squared_error', optimizer='sgd', metrics=['accuracy'])"
   ]
  },
  {
   "cell_type": "code",
   "execution_count": 159,
   "metadata": {},
   "outputs": [
    {
     "name": "stdout",
     "output_type": "stream",
     "text": [
      "Epoch 1/20\n"
     ]
    },
    {
     "name": "stdout",
     "output_type": "stream",
     "text": [
      "363/363 [==============================] - 0s 730us/step - loss: 0.7275 - accuracy: 0.0028 - val_loss: 2.4343 - val_accuracy: 0.0044\n",
      "Epoch 2/20\n",
      "363/363 [==============================] - 0s 532us/step - loss: 0.5478 - accuracy: 0.0028 - val_loss: 8.3236 - val_accuracy: 0.0044\n",
      "Epoch 3/20\n",
      "363/363 [==============================] - 0s 515us/step - loss: 0.6731 - accuracy: 0.0026 - val_loss: 5.6275 - val_accuracy: 0.0044\n",
      "Epoch 4/20\n",
      "363/363 [==============================] - 0s 667us/step - loss: 0.4374 - accuracy: 0.0028 - val_loss: 14.9243 - val_accuracy: 0.0044\n",
      "Epoch 5/20\n",
      "363/363 [==============================] - 0s 535us/step - loss: 0.3890 - accuracy: 0.0028 - val_loss: 4.1387 - val_accuracy: 0.0044\n",
      "Epoch 6/20\n",
      "363/363 [==============================] - 0s 516us/step - loss: 0.6956 - accuracy: 0.0027 - val_loss: 1.1616 - val_accuracy: 0.0044\n",
      "Epoch 7/20\n",
      "363/363 [==============================] - 0s 510us/step - loss: 0.4667 - accuracy: 0.0028 - val_loss: 11.4505 - val_accuracy: 0.0044\n",
      "Epoch 8/20\n",
      "363/363 [==============================] - 0s 657us/step - loss: 0.3833 - accuracy: 0.0028 - val_loss: 5.7097 - val_accuracy: 0.0044\n",
      "Epoch 9/20\n",
      "363/363 [==============================] - 0s 521us/step - loss: 0.4085 - accuracy: 0.0028 - val_loss: 28.0699 - val_accuracy: 0.0044\n",
      "Epoch 10/20\n",
      "363/363 [==============================] - 0s 517us/step - loss: 1.0526 - accuracy: 0.0028 - val_loss: 36.8711 - val_accuracy: 0.0044\n",
      "Epoch 11/20\n",
      "363/363 [==============================] - 0s 516us/step - loss: 0.4470 - accuracy: 0.0028 - val_loss: 557.8863 - val_accuracy: 0.0036\n",
      "Epoch 12/20\n",
      "363/363 [==============================] - 0s 665us/step - loss: nan - accuracy: 8.6133e-05 - val_loss: nan - val_accuracy: 0.0000e+00\n",
      "Epoch 13/20\n",
      "363/363 [==============================] - 0s 522us/step - loss: nan - accuracy: 0.0000e+00 - val_loss: nan - val_accuracy: 0.0000e+00\n",
      "Epoch 14/20\n",
      "363/363 [==============================] - 0s 511us/step - loss: nan - accuracy: 0.0000e+00 - val_loss: nan - val_accuracy: 0.0000e+00\n",
      "Epoch 15/20\n",
      "363/363 [==============================] - 0s 519us/step - loss: nan - accuracy: 0.0000e+00 - val_loss: nan - val_accuracy: 0.0000e+00\n",
      "Epoch 16/20\n",
      "363/363 [==============================] - 0s 671us/step - loss: nan - accuracy: 0.0000e+00 - val_loss: nan - val_accuracy: 0.0000e+00\n",
      "Epoch 17/20\n",
      "363/363 [==============================] - 0s 518us/step - loss: nan - accuracy: 0.0000e+00 - val_loss: nan - val_accuracy: 0.0000e+00\n",
      "Epoch 18/20\n",
      "363/363 [==============================] - 0s 515us/step - loss: nan - accuracy: 0.0000e+00 - val_loss: nan - val_accuracy: 0.0000e+00\n",
      "Epoch 19/20\n",
      "363/363 [==============================] - 0s 842us/step - loss: nan - accuracy: 0.0000e+00 - val_loss: nan - val_accuracy: 0.0000e+00\n",
      "Epoch 20/20\n",
      "363/363 [==============================] - 0s 642us/step - loss: nan - accuracy: 0.0000e+00 - val_loss: nan - val_accuracy: 0.0000e+00\n"
     ]
    }
   ],
   "source": [
    "history = model.fit( X_train, y_train, epochs=20, validation_data=(X_valid, y_valid))"
   ]
  },
  {
   "cell_type": "code",
   "execution_count": 160,
   "metadata": {},
   "outputs": [
    {
     "data": {
      "image/png": "[encoded data removed]",
      "text/plain": [
       "<Figure size 800x500 with 1 Axes>"
      ]
     },
     "metadata": {},
     "output_type": "display_data"
    }
   ],
   "source": [
    "pd.DataFrame(history.history).plot(figsize=(8, 5))\n",
    "plt.grid(True)\n",
    "plt.gca().set_ylim(0, 1)\n",
    "plt.show()"
   ]
  },
  {
   "cell_type": "code",
   "execution_count": 161,
   "metadata": {},
   "outputs": [
    {
     "name": "stdout",
     "output_type": "stream",
     "text": [
      "162/162 [==============================] - 0s 562us/step - loss: nan - accuracy: 0.0000e+00\n"
     ]
    }
   ],
   "source": [
    "mse_test = model.evaluate(X_test, y_test)"
   ]
  },
  {
   "cell_type": "markdown",
   "metadata": {},
   "source": [
    "### Handling Multiple Inputs in Wide & Deep\n",
    "- It can be used in many places, to train a nueral network for different tasks\n",
    "- We can train for both the regression and classification task.\n",
    "- For images classification we train one part for the smile, the other parts for the edges."
   ]
  },
  {
   "cell_type": "code",
   "execution_count": 162,
   "metadata": {},
   "outputs": [],
   "source": [
    "\n",
    "\n",
    "input_A = keras.layers.Input(shape = [5], name='wide_input')\n",
    "input_B = keras.layers.Input(shape=[6], name='deep_input')\n",
    "\n",
    "hidden_1 = keras.layers.Dense(30, activation='relu')(input_A)\n",
    "hidden_2 = keras.layers.Dense(30, activation='relu')(hidden_1)\n",
    "\n",
    "concat = keras.layers.Concatenate()([input_B, hidden_2])\n",
    "\n",
    "output = keras.layers.Dense(1,name='output')(concat)\n",
    "\n",
    "model  = keras.Model(inputs=[input_A, input_B], outputs=[output])"
   ]
  },
  {
   "cell_type": "code",
   "execution_count": 163,
   "metadata": {},
   "outputs": [
    {
     "name": "stdout",
     "output_type": "stream",
     "text": [
      "Model: \"model_10\"\n",
      "__________________________________________________________________________________________________\n",
      " Layer (type)                Output Shape                 Param #   Connected to                  \n",
      "==================================================================================================\n",
      " wide_input (InputLayer)     [(None, 5)]                  0         []                            \n",
      "                                                                                                  \n",
      " dense_56 (Dense)            (None, 30)                   180       ['wide_input[0][0]']          \n",
      "                                                                                                  \n",
      " deep_input (InputLayer)     [(None, 6)]                  0         []                            \n",
      "                                                                                                  \n",
      " dense_57 (Dense)            (None, 30)                   930       ['dense_56[0][0]']            \n",
      "                                                                                                  \n",
      " concatenate_11 (Concatenat  (None, 36)                   0         ['deep_input[0][0]',          \n",
      " e)                                                                  'dense_57[0][0]']            \n",
      "                                                                                                  \n",
      " output (Dense)              (None, 1)                    37        ['concatenate_11[0][0]']      \n",
      "                                                                                                  \n",
      "==================================================================================================\n",
      "Total params: 1147 (4.48 KB)\n",
      "Trainable params: 1147 (4.48 KB)\n",
      "Non-trainable params: 0 (0.00 Byte)\n",
      "__________________________________________________________________________________________________\n"
     ]
    }
   ],
   "source": [
    "model.summary()"
   ]
  },
  {
   "cell_type": "code",
   "execution_count": 164,
   "metadata": {},
   "outputs": [],
   "source": [
    "model.compile(loss='mse', optimizer=keras.optimizers.legacy.SGD(learning_rate=1e-3))"
   ]
  },
  {
   "cell_type": "code",
   "execution_count": 169,
   "metadata": {},
   "outputs": [
    {
     "name": "stderr",
     "output_type": "stream",
     "text": [
      "WARNING:absl:At this time, the v2.11+ optimizer `tf.keras.optimizers.SGD` runs slowly on M1/M2 Macs, please use the legacy Keras optimizer instead, located at `tf.keras.optimizers.legacy.SGD`.\n"
     ]
    },
    {
     "name": "stdout",
     "output_type": "stream",
     "text": [
      "Epoch 1/20\n",
      "363/363 [==============================] - 1s 1ms/step - loss: 2.0227 - accuracy: 0.0026 - val_loss: 1.0067 - val_accuracy: 0.0044\n",
      "Epoch 2/20\n",
      "363/363 [==============================] - 0s 581us/step - loss: 0.8201 - accuracy: 0.0029 - val_loss: 1.3297 - val_accuracy: 0.0044\n",
      "Epoch 3/20\n",
      "363/363 [==============================] - 0s 611us/step - loss: 0.7574 - accuracy: 0.0029 - val_loss: 1.3781 - val_accuracy: 0.0044\n",
      "Epoch 4/20\n",
      "363/363 [==============================] - 0s 525us/step - loss: 0.7135 - accuracy: 0.0029 - val_loss: 1.2223 - val_accuracy: 0.0044\n",
      "Epoch 5/20\n",
      "363/363 [==============================] - 0s 691us/step - loss: 0.6793 - accuracy: 0.0029 - val_loss: 1.0155 - val_accuracy: 0.0044\n",
      "Epoch 6/20\n",
      "363/363 [==============================] - 0s 533us/step - loss: 0.6473 - accuracy: 0.0029 - val_loss: 1.1541 - val_accuracy: 0.0044\n",
      "Epoch 7/20\n",
      "363/363 [==============================] - 0s 538us/step - loss: 0.6239 - accuracy: 0.0029 - val_loss: 1.2310 - val_accuracy: 0.0044\n",
      "Epoch 8/20\n",
      "363/363 [==============================] - 0s 562us/step - loss: 0.6047 - accuracy: 0.0029 - val_loss: 0.9523 - val_accuracy: 0.0044\n",
      "Epoch 9/20\n",
      "363/363 [==============================] - 0s 551us/step - loss: 0.5861 - accuracy: 0.0029 - val_loss: 0.9983 - val_accuracy: 0.0044\n",
      "Epoch 10/20\n",
      "363/363 [==============================] - 0s 855us/step - loss: 0.5709 - accuracy: 0.0029 - val_loss: 1.1880 - val_accuracy: 0.0044\n",
      "Epoch 11/20\n",
      "363/363 [==============================] - 0s 706us/step - loss: 0.5610 - accuracy: 0.0029 - val_loss: 0.8421 - val_accuracy: 0.0044\n",
      "Epoch 12/20\n",
      "363/363 [==============================] - 0s 635us/step - loss: 0.5482 - accuracy: 0.0029 - val_loss: 1.1177 - val_accuracy: 0.0044\n",
      "Epoch 13/20\n",
      "363/363 [==============================] - 0s 773us/step - loss: 0.5419 - accuracy: 0.0029 - val_loss: 1.0254 - val_accuracy: 0.0044\n",
      "Epoch 14/20\n",
      "363/363 [==============================] - 0s 569us/step - loss: 0.5345 - accuracy: 0.0029 - val_loss: 0.9203 - val_accuracy: 0.0044\n",
      "Epoch 15/20\n",
      "363/363 [==============================] - 0s 545us/step - loss: 0.5276 - accuracy: 0.0029 - val_loss: 0.8994 - val_accuracy: 0.0044\n",
      "Epoch 16/20\n",
      "363/363 [==============================] - 0s 570us/step - loss: 0.5216 - accuracy: 0.0029 - val_loss: 0.9077 - val_accuracy: 0.0044\n",
      "Epoch 17/20\n",
      "363/363 [==============================] - 0s 714us/step - loss: 0.5170 - accuracy: 0.0029 - val_loss: 0.8819 - val_accuracy: 0.0044\n",
      "Epoch 18/20\n",
      "363/363 [==============================] - 0s 552us/step - loss: 0.5131 - accuracy: 0.0029 - val_loss: 0.7898 - val_accuracy: 0.0044\n",
      "Epoch 19/20\n",
      "363/363 [==============================] - 0s 571us/step - loss: 0.5080 - accuracy: 0.0029 - val_loss: 0.8779 - val_accuracy: 0.0044\n",
      "Epoch 20/20\n",
      "363/363 [==============================] - 0s 723us/step - loss: 0.5048 - accuracy: 0.0029 - val_loss: 1.0059 - val_accuracy: 0.0044\n",
      "1/1 [==============================] - 0s 37ms/step\n"
     ]
    }
   ],
   "source": [
    "model.compile(loss=\"mse\", optimizer=keras.optimizers.SGD(learning_rate=1e-3), metrics=['accuracy'])\n",
    "\n",
    "X_train_A,X_train_B = X_train[:, :5], X_train[:, 2:]\n",
    "X_valid_A, X_valid_B = X_valid[:, :5], X_valid[:, 2:]\n",
    "X_test_A, X_test_B = X_test[:, :5], X_test[:, 2:]\n",
    "X_new_A, X_new_B = X_test_A[:3], X_test_B[:3]\n",
    "\n",
    "history = model.fit((X_train_A, X_train_B), y_train, epochs=20,\n",
    "                    validation_data=((X_valid_A, X_valid_B), y_valid))\n",
    "y_pred = model.predict((X_new_A, X_new_B))"
   ]
  },
  {
   "cell_type": "code",
   "execution_count": null,
   "metadata": {},
   "outputs": [
    {
     "data": {
      "image/png": "[encoded data removed]",
      "text/plain": [
       "<Figure size 800x500 with 1 Axes>"
      ]
     },
     "metadata": {},
     "output_type": "display_data"
    }
   ],
   "source": [
    "pd.DataFrame(history.history).plot(figsize=(8, 5))\n",
    "plt.grid(True)\n",
    "plt.gca().set_ylim(0, 1)\n",
    "plt.show()"
   ]
  },
  {
   "cell_type": "code",
   "execution_count": null,
   "metadata": {},
   "outputs": [
    {
     "name": "stdout",
     "output_type": "stream",
     "text": [
      "162/162 [==============================] - 0s 384us/step - loss: 0.4989 - accuracy: 0.0021\n"
     ]
    }
   ],
   "source": [
    "mse_test = model.evaluate((X_test_A, X_test_B), y_test)\n"
   ]
  },
  {
   "cell_type": "code",
   "execution_count": 170,
   "metadata": {},
   "outputs": [
    {
     "name": "stderr",
     "output_type": "stream",
     "text": [
      "/Users/kavach/miniconda3/envs/tfenv/lib/python3.11/site-packages/keras/src/engine/training.py:3103: UserWarning: You are saving your model as an HDF5 file via `model.save()`. This file format is considered legacy. We recommend using instead the native Keras format, e.g. `model.save('my_model.keras')`.\n",
      "  saving_api.save_model(\n"
     ]
    }
   ],
   "source": [
    "## Saving a Model\n",
    "model.save('architeture.h5')"
   ]
  },
  {
   "cell_type": "code",
   "execution_count": 171,
   "metadata": {},
   "outputs": [
    {
     "name": "stderr",
     "output_type": "stream",
     "text": [
      "WARNING:absl:At this time, the v2.11+ optimizer `tf.keras.optimizers.SGD` runs slowly on M1/M2 Macs, please use the legacy Keras optimizer instead, located at `tf.keras.optimizers.legacy.SGD`.\n"
     ]
    }
   ],
   "source": [
    "## Loading a model\n",
    "model = keras.models.load_model('architeture.h5')\n"
   ]
  },
  {
   "cell_type": "markdown",
   "metadata": {},
   "source": [
    "### TensorBoard for Visualisation"
   ]
  },
  {
   "cell_type": "code",
   "execution_count": 177,
   "metadata": {},
   "outputs": [],
   "source": [
    "import os\n",
    "root_logdir  =os.path.join(os.curdir, 'my_logs')\n",
    "\n",
    "def get_run_logdir():\n",
    "    import time\n",
    "    run_id = time.strftime('run_%Y_%m_%d_%H_%M_%S')\n",
    "    return os.path.join(root_logdir, run_id)\n",
    "\n",
    "run_logdir = get_run_logdir()"
   ]
  },
  {
   "cell_type": "code",
   "execution_count": 178,
   "metadata": {},
   "outputs": [
    {
     "name": "stdout",
     "output_type": "stream",
     "text": [
      "Epoch 1/30\n",
      "363/363 [==============================] - 0s 907us/step - loss: 0.3554 - accuracy: 0.0029 - val_loss: 0.9404 - val_accuracy: 0.0044\n",
      "Epoch 2/30\n",
      "363/363 [==============================] - 0s 580us/step - loss: 0.3576 - accuracy: 0.0029 - val_loss: 1.7464 - val_accuracy: 0.0044\n",
      "Epoch 3/30\n",
      "363/363 [==============================] - 0s 609us/step - loss: 0.3836 - accuracy: 0.0029 - val_loss: 1.8840 - val_accuracy: 0.0044\n",
      "Epoch 4/30\n",
      "363/363 [==============================] - 0s 759us/step - loss: 0.3570 - accuracy: 0.0029 - val_loss: 3.6506 - val_accuracy: 0.0044\n",
      "Epoch 5/30\n",
      "363/363 [==============================] - 0s 576us/step - loss: 0.3733 - accuracy: 0.0028 - val_loss: 3.4300 - val_accuracy: 0.0044\n",
      "Epoch 6/30\n",
      "363/363 [==============================] - 0s 569us/step - loss: 0.3754 - accuracy: 0.0029 - val_loss: 1.2185 - val_accuracy: 0.0044\n",
      "Epoch 7/30\n",
      "363/363 [==============================] - 0s 737us/step - loss: 0.3837 - accuracy: 0.0029 - val_loss: 0.3410 - val_accuracy: 0.0044\n",
      "Epoch 8/30\n",
      "363/363 [==============================] - 0s 574us/step - loss: 0.3456 - accuracy: 0.0029 - val_loss: 0.3455 - val_accuracy: 0.0044\n",
      "Epoch 9/30\n",
      "363/363 [==============================] - 0s 577us/step - loss: 0.3432 - accuracy: 0.0029 - val_loss: 0.3747 - val_accuracy: 0.0044\n",
      "Epoch 10/30\n",
      "363/363 [==============================] - 0s 779us/step - loss: 0.3479 - accuracy: 0.0029 - val_loss: 0.3485 - val_accuracy: 0.0044\n",
      "Epoch 11/30\n",
      "363/363 [==============================] - 0s 717us/step - loss: 0.3423 - accuracy: 0.0029 - val_loss: 0.3340 - val_accuracy: 0.0044\n",
      "Epoch 12/30\n",
      "363/363 [==============================] - 0s 653us/step - loss: 0.3371 - accuracy: 0.0029 - val_loss: 0.3420 - val_accuracy: 0.0044\n",
      "Epoch 13/30\n",
      "363/363 [==============================] - 0s 754us/step - loss: 0.3345 - accuracy: 0.0029 - val_loss: 0.3373 - val_accuracy: 0.0044\n",
      "Epoch 14/30\n",
      "363/363 [==============================] - 0s 572us/step - loss: 0.3335 - accuracy: 0.0029 - val_loss: 0.3239 - val_accuracy: 0.0044\n",
      "Epoch 15/30\n",
      "363/363 [==============================] - 0s 578us/step - loss: 0.3356 - accuracy: 0.0029 - val_loss: 0.3214 - val_accuracy: 0.0044\n",
      "Epoch 16/30\n",
      "363/363 [==============================] - 0s 741us/step - loss: 0.3341 - accuracy: 0.0029 - val_loss: 0.3121 - val_accuracy: 0.0044\n",
      "Epoch 17/30\n",
      "363/363 [==============================] - 0s 575us/step - loss: 0.3333 - accuracy: 0.0029 - val_loss: 0.3265 - val_accuracy: 0.0044\n",
      "Epoch 18/30\n",
      "363/363 [==============================] - 0s 561us/step - loss: 0.3474 - accuracy: 0.0029 - val_loss: 0.3216 - val_accuracy: 0.0044\n",
      "Epoch 19/30\n",
      "363/363 [==============================] - 0s 758us/step - loss: 0.3364 - accuracy: 0.0028 - val_loss: 0.3182 - val_accuracy: 0.0044\n",
      "Epoch 20/30\n",
      "363/363 [==============================] - 0s 576us/step - loss: 0.3444 - accuracy: 0.0028 - val_loss: 0.3261 - val_accuracy: 0.0044\n",
      "Epoch 21/30\n",
      "363/363 [==============================] - 0s 580us/step - loss: 0.3289 - accuracy: 0.0029 - val_loss: 0.3182 - val_accuracy: 0.0044\n",
      "Epoch 22/30\n",
      "363/363 [==============================] - 0s 755us/step - loss: 0.3254 - accuracy: 0.0029 - val_loss: 0.3256 - val_accuracy: 0.0044\n",
      "Epoch 23/30\n",
      "363/363 [==============================] - 0s 569us/step - loss: 0.3235 - accuracy: 0.0028 - val_loss: 0.3118 - val_accuracy: 0.0044\n",
      "Epoch 24/30\n",
      "363/363 [==============================] - 0s 568us/step - loss: 0.3227 - accuracy: 0.0028 - val_loss: 0.3182 - val_accuracy: 0.0044\n",
      "Epoch 25/30\n",
      "363/363 [==============================] - 0s 745us/step - loss: 0.3228 - accuracy: 0.0028 - val_loss: 0.3229 - val_accuracy: 0.0044\n",
      "Epoch 26/30\n",
      "363/363 [==============================] - 0s 580us/step - loss: 0.3211 - accuracy: 0.0029 - val_loss: 0.3258 - val_accuracy: 0.0044\n",
      "Epoch 27/30\n",
      "363/363 [==============================] - 0s 567us/step - loss: 0.3226 - accuracy: 0.0028 - val_loss: 0.3270 - val_accuracy: 0.0044\n",
      "Epoch 28/30\n",
      "363/363 [==============================] - 0s 573us/step - loss: 0.3203 - accuracy: 0.0028 - val_loss: 0.3610 - val_accuracy: 0.0044\n",
      "Epoch 29/30\n",
      "363/363 [==============================] - 0s 745us/step - loss: 0.3250 - accuracy: 0.0028 - val_loss: 0.3092 - val_accuracy: 0.0044\n",
      "Epoch 30/30\n",
      "363/363 [==============================] - 0s 573us/step - loss: 0.3266 - accuracy: 0.0028 - val_loss: 0.3388 - val_accuracy: 0.0044\n"
     ]
    }
   ],
   "source": [
    "tensorboard_cb = keras.callbacks.TensorBoard(run_logdir)\n",
    "history = model.fit(X_train, y_train, epochs=30, validation_data=(X_valid, y_valid), callbacks=tensorboard_cb)"
   ]
  },
  {
   "cell_type": "code",
   "execution_count": 180,
   "metadata": {},
   "outputs": [
    {
     "name": "stderr",
     "output_type": "stream",
     "text": [
      "UsageError: Line magic function `%load_ext_tensorboard` not found.\n"
     ]
    }
   ],
   "source": [
    "%load_ext_tensorboard\n",
    "%tensorboard --logdir=./my_logs --port=6006"
   ]
  },
  {
   "cell_type": "code",
   "execution_count": null,
   "metadata": {},
   "outputs": [],
   "source": []
  },
  {
   "cell_type": "code",
   "execution_count": null,
   "metadata": {},
   "outputs": [],
   "source": []
  },
  {
   "cell_type": "code",
   "execution_count": null,
   "metadata": {},
   "outputs": [],
   "source": []
  },
  {
   "cell_type": "code",
   "execution_count": null,
   "metadata": {},
   "outputs": [],
   "source": []
  }
 ],
 "metadata": {
  "kernelspec": {
   "display_name": "tfenv",
   "language": "python",
   "name": "python3"
  },
  "language_info": {
   "codemirror_mode": {
    "name": "ipython",
    "version": 3
   },
   "file_extension": ".py",
   "mimetype": "text/x-python",
   "name": "python",
   "nbconvert_exporter": "python",
   "pygments_lexer": "ipython3",
   "version": "3.11.8"
  }
 },
 "nbformat": 4,
 "nbformat_minor": 2
}
